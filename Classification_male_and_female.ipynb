{
  "nbformat": 4,
  "nbformat_minor": 0,
  "metadata": {
    "colab": {
      "name": "Classification male and female.ipynb",
      "version": "0.3.2",
      "provenance": [],
      "include_colab_link": true
    }
  },
  "cells": [
    {
      "cell_type": "markdown",
      "metadata": {
        "id": "view-in-github",
        "colab_type": "text"
      },
      "source": [
        "[View in Colaboratory](https://colab.research.google.com/github/Priyankk18k/Classification-projects/blob/master/Classification_male_and_female.ipynb)"
      ]
    },
    {
      "metadata": {
        "id": "TQhtmR-H_X5U",
        "colab_type": "code",
        "colab": {
          "base_uri": "https://localhost:8080/",
          "height": 35
        },
        "outputId": "91b1d9d1-a3d6-4573-e6ca-9db08012cfde"
      },
      "cell_type": "code",
      "source": [
        "\n",
        "from sklearn import tree\n",
        "X=[[173,34,55],[232,43,64],[125,54,98],[111,94,72],[148,28,95],[213,34,64],[123,56,45]]\n",
        "Y=[\"male\",\"female\",\"male\",\"male\",\"female\",\"female\",\"male\"]\n",
        "clf=tree.DecisionTreeClassifier()\n",
        "clf=clf.fit(X,Y)\n",
        "prediction=clf.predict([[123,32,22]])\n",
        "print (prediction)"
      ],
      "execution_count": 5,
      "outputs": [
        {
          "output_type": "stream",
          "text": [
            "['male']\n"
          ],
          "name": "stdout"
        }
      ]
    },
    {
      "metadata": {
        "id": "bk2-xD2Hr1Rb",
        "colab_type": "code",
        "colab": {}
      },
      "cell_type": "code",
      "source": [
        ""
      ],
      "execution_count": 0,
      "outputs": []
    }
  ]
}